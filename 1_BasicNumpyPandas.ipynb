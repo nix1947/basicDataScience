{
 "cells": [
  {
   "cell_type": "code",
   "execution_count": 20,
   "metadata": {
    "scrolled": true
   },
   "outputs": [],
   "source": [
    "## Installlation\n",
    "# !pip install pandas\n",
    "\n"
   ]
  },
  {
   "cell_type": "code",
   "execution_count": 19,
   "metadata": {},
   "outputs": [],
   "source": [
    "# some imports\n",
    "import pandas as pd\n",
    "import matplotlib.pyplot as plt"
   ]
  },
  {
   "cell_type": "code",
   "execution_count": 24,
   "metadata": {},
   "outputs": [],
   "source": [
    "def max_closing_value(symbol):\n",
    "    \"\"\"\n",
    "    Read the csv file as data frame return data frame\n",
    "    \"\"\"\n",
    "    df = pd.read_csv(\"data/{}.csv\".format(symbol))\n",
    "    return df[\"Close\"].max()\n",
    "\n",
    "\n",
    "def calculate_volume_mean_value(symbol):\n",
    "    df = pd.read_csv(\"data/{}.csv\".format(symbol))\n",
    "    return df[\"volume\"].mean()\n",
    "\n",
    "\n",
    "def plot_adjusted_price(symbol):\n",
    "    df = pd.read_csv(\"data/{}.csv\".format(symbol))\n",
    "    df[\"Adj Close\"].plot()\n",
    "\n",
    "def print_max_closing_value():\n",
    "    for symbol in ['AAPL']:\n",
    "        print(max_closing_value(symbol))\n",
    "        \n",
    "\n",
    "def plot_two_columns(symbol):\n",
    "    df = pd.read_csv(\"data/{}.csv\")\n",
    "    ax = df[\"Open\", \"Adjusted\"].plot(title=\"Nepse plotting\", fontsize=2)\n",
    "    ax.set_xlabel()\n",
    "    ax.set_ylabel()\n",
    "    df[\"Open\", \"Adjusted\"].show()\n",
    "    \n",
    "\n",
    "def join_data_frame(symbol1, symbol2):\n",
    "    df1 = pd.read_csv(\"data/{}\".format(symbol1), index_cols=\"Date\", parse_dates=True)\n",
    "    df2 = pd.read_csv(\"data/{}\".format(symbol2), index_cols=\"Date\", parse_dates=True, use_cols=['Date', 'Adj Close'], na_values=['nan'])\n",
    "    \n",
    "    # Left join\n",
    "    df1 = df1.join(df2)\n",
    "    print(df1)\n",
    "    \n",
    "    # drop the nan rows\n",
    "    df1.dropna()\n",
    "    \n",
    "\n",
    "def normalize_data(df):\n",
    "    \"\"\"\n",
    "    Data are normalized to compare the stock with each other, by dividing each value of column with\n",
    "    starting price\n",
    "    \"\"\"\n",
    "    return df/df.ix[0, :]\n"
   ]
  },
  {
   "cell_type": "markdown",
   "metadata": {},
   "source": [
    "## Numpy"
   ]
  },
  {
   "cell_type": "code",
   "execution_count": 3,
   "metadata": {},
   "outputs": [],
   "source": [
    "import numpy as np\n",
    "import pandas as pd"
   ]
  },
  {
   "cell_type": "code",
   "execution_count": 98,
   "metadata": {},
   "outputs": [
    {
     "name": "stdout",
     "output_type": "stream",
     "text": [
      "Array shape is: (100, 100)\n",
      "Row is  100\n",
      "Column is 20\n",
      "Total number of elements is  10000\n",
      "The data type in the array is  float64\n",
      "[[5 8 4 8 6]\n",
      " [9 8 6 6 0]\n",
      " [9 8 2 6 7]\n",
      " [0 2 8 8 7]]\n",
      "[[0.32279788 0.80382292 0.7972804  0.69202906]\n",
      " [0.86098762 0.43641893 0.80837458 0.12460679]\n",
      " [0.08893122 0.0987576  0.56561349 0.89674904]\n",
      " [0.66946672 0.06993603 0.0395293  0.13210896]]\n",
      "Sum of all columns:  [1.94218344 1.40893547 2.21079778 1.84549386]\n",
      "Miniumum value of each columns\n",
      " [0.08893122 0.06993603 0.0395293  0.12460679]\n",
      "Minimum value of each rows [0.32279788 0.12460679 0.08893122 0.0395293 ]\n",
      "Sum of all rows is:  [2.61593026 2.23038793 1.65005134 0.91104102]\n",
      "Sum:  89.97579194749787\n",
      "Mean:  0.4498789597374893\n",
      "Std:  0.2831382357840637\n",
      "Minimum value 0.03952930324531423\n",
      "Maximum value 0.8967490396727675\n"
     ]
    }
   ],
   "source": [
    "# random array of size 100 * 100\n",
    "np.random.rand(100, 100) * 10 \n",
    "\n",
    "arr1 = np.ones(5)\n",
    "arr2 = np.empty(100)\n",
    "arr3 = np.random.random((100, 100)) # size is 100 x 100\n",
    "\n",
    "\n",
    "\n",
    "# array shape\n",
    "print(\"Array shape is:\", arr3.shape, end=\"\\n\")\n",
    "\n",
    "# Array access\n",
    "print(\"Row is \", arr3.shape[0])\n",
    "print(\"Column is\", arr.shape[1])\n",
    "\n",
    "# Total elements\n",
    "print(\"Total number of elements is \", arr3.size)\n",
    "\n",
    "# Print data type\n",
    "print(\"The data type in the array is \", arr3.dtype)\n",
    " \n",
    "# Seed\n",
    "np.random.seed(324)\n",
    "\n",
    "# Create an array using random\n",
    "arr4 = np.random.rand(20, 10)\n",
    "\n",
    "a = np.random.random((4, 4)) # 4 x 4 matrix with random values\n",
    "\n",
    "# Numpy array with values 0 to 10 with size 4 x 5 \n",
    "b = np.random.randint(0, 10, size=(4, 5))\n",
    "print(b, end=\"\\n\")\n",
    "\n",
    "# Sum the rows \n",
    "print(a, end=\"\\n\")\n",
    "\n",
    "# Iterate over rows to compute sum of each columns\n",
    "print(\"Sum of all columns: \", a.sum(axis=0), end=\"\\n\")\n",
    "print(\"Miniumum value of each columns\\n\", a.min(axis=0), end=\"\\n\")\n",
    "print(\"Minimum value of each rows\", a.min(axis=1), end=\"\\n\")\n",
    "\n",
    "# Iterate over columns to compute the sum of each row using axis = 1\n",
    "print(\"Sum of all rows is: \", a.sum(axis=1), end=\"\\n\")\n",
    "\n",
    "# Statistics operation\n",
    "print(\"Sum: \", arr4.sum(), end=\"\\n\")\n",
    "print(\"Mean: \", arr4.mean(), end=\"\\n\")\n",
    "print(\"Std: \", arr4.std(), end=\"\\n\")\n",
    "print(\"Minimum value\", a.min(), end=\"\\n\")\n",
    "print(\"Maximum value\", a.max(), end=\"\\n\")\n",
    "\n"
   ]
  },
  {
   "cell_type": "code",
   "execution_count": null,
   "metadata": {},
   "outputs": [],
   "source": []
  }
 ],
 "metadata": {
  "kernelspec": {
   "display_name": "Python 3",
   "language": "python",
   "name": "python3"
  },
  "language_info": {
   "codemirror_mode": {
    "name": "ipython",
    "version": 3
   },
   "file_extension": ".py",
   "mimetype": "text/x-python",
   "name": "python",
   "nbconvert_exporter": "python",
   "pygments_lexer": "ipython3",
   "version": "3.7.3"
  }
 },
 "nbformat": 4,
 "nbformat_minor": 2
}
