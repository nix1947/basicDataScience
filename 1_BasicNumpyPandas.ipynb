{
 "cells": [
  {
   "cell_type": "code",
   "execution_count": 20,
   "metadata": {
    "scrolled": true
   },
   "outputs": [],
   "source": [
    "## Installlation\n",
    "# !pip install pandas\n",
    "\n"
   ]
  },
  {
   "cell_type": "code",
   "execution_count": 19,
   "metadata": {},
   "outputs": [],
   "source": [
    "# some imports\n",
    "import pandas as pd\n",
    "import matplotlib.pyplot as plt"
   ]
  },
  {
   "cell_type": "code",
   "execution_count": 24,
   "metadata": {},
   "outputs": [],
   "source": [
    "def max_closing_value(symbol):\n",
    "    \"\"\"\n",
    "    Read the csv file as data frame return data frame\n",
    "    \"\"\"\n",
    "    df = pd.read_csv(\"data/{}.csv\".format(symbol))\n",
    "    return df[\"Close\"].max()\n",
    "\n",
    "\n",
    "def calculate_volume_mean_value(symbol):\n",
    "    df = pd.read_csv(\"data/{}.csv\".format(symbol))\n",
    "    return df[\"volume\"].mean()\n",
    "\n",
    "\n",
    "def plot_adjusted_price(symbol):\n",
    "    df = pd.read_csv(\"data/{}.csv\".format(symbol))\n",
    "    df[\"Adj Close\"].plot()\n",
    "\n",
    "def print_max_closing_value():\n",
    "    for symbol in ['AAPL']:\n",
    "        print(max_closing_value(symbol))\n",
    "        \n",
    "\n",
    "def plot_two_columns(symbol):\n",
    "    df = pd.read_csv(\"data/{}.csv\")\n",
    "    ax = df[\"Open\", \"Adjusted\"].plot(title=\"Nepse plotting\", fontsize=2)\n",
    "    ax.set_xlabel()\n",
    "    ax.set_ylabel()\n",
    "    df[\"Open\", \"Adjusted\"].show()\n",
    "    \n",
    "\n",
    "def join_data_frame(symbol1, symbol2):\n",
    "    df1 = pd.read_csv(\"data/{}\".format(symbol1), index_cols=\"Date\", parse_dates=True)\n",
    "    df2 = pd.read_csv(\"data/{}\".format(symbol2), index_cols=\"Date\", parse_dates=True, use_cols=['Date', 'Adj Close'], na_values=['nan'])\n",
    "    \n",
    "    # Left join\n",
    "    df1 = df1.join(df2)\n",
    "    print(df1)\n",
    "    \n",
    "    # drop the nan rows\n",
    "    df1.dropna()\n",
    "    \n",
    "\n",
    "def normalize_data(df):\n",
    "    \"\"\"\n",
    "    Data are normalized to compare the stock with each other, by dividing each value of column with\n",
    "    starting price\n",
    "    \"\"\"\n",
    "    return df/df.ix[0, :]\n"
   ]
  },
  {
   "cell_type": "markdown",
   "metadata": {},
   "source": [
    "## Numpy"
   ]
  },
  {
   "cell_type": "code",
   "execution_count": 3,
   "metadata": {},
   "outputs": [],
   "source": [
    "import numpy as np\n",
    "import pandas as pd"
   ]
  },
  {
   "cell_type": "code",
   "execution_count": 101,
   "metadata": {},
   "outputs": [
    {
     "name": "stdout",
     "output_type": "stream",
     "text": [
      "Array shape is: (100, 100)\n",
      "Row is  100\n",
      "Column is 20\n",
      "Total number of elements is  10000\n",
      "The data type in the array is  float64\n",
      "[[5 8 4 8 6]\n",
      " [9 8 6 6 0]\n",
      " [9 8 2 6 7]\n",
      " [0 2 8 8 7]]\n",
      "[[0.32279788 0.80382292 0.7972804  0.69202906]\n",
      " [0.86098762 0.43641893 0.80837458 0.12460679]\n",
      " [0.08893122 0.0987576  0.56561349 0.89674904]\n",
      " [0.66946672 0.06993603 0.0395293  0.13210896]]\n",
      "Sum of all columns:  [1.94218344 1.40893547 2.21079778 1.84549386]\n",
      "Miniumum value of each columns\n",
      " [0.08893122 0.06993603 0.0395293  0.12460679]\n",
      "Minimum value of each rows [0.32279788 0.12460679 0.08893122 0.0395293 ]\n",
      "Sum of all rows is:  [2.61593026 2.23038793 1.65005134 0.91104102]\n",
      "Sum:  89.97579194749787\n",
      "Mean:  0.4498789597374893\n",
      "Std:  0.2831382357840637\n",
      "Minimum value 0.03952930324531423\n",
      "Maximum value 0.8967490396727675\n",
      "The index that hold max value in each columns  [ 9  6 74]\n"
     ]
    }
   ],
   "source": [
    "# random array of size 100 * 100\n",
    "np.random.rand(100, 100) * 10 \n",
    "\n",
    "arr1 = np.ones(5)\n",
    "arr2 = np.empty(100)\n",
    "arr3 = np.random.random((100, 100)) # size is 100 x 100\n",
    "\n",
    "\n",
    "\n",
    "# array shape\n",
    "print(\"Array shape is:\", arr3.shape, end=\"\\n\")\n",
    "\n",
    "# Array access\n",
    "print(\"Row is \", arr3.shape[0])\n",
    "print(\"Column is\", arr.shape[1])\n",
    "\n",
    "# Total elements\n",
    "print(\"Total number of elements is \", arr3.size)\n",
    "\n",
    "# Print data type\n",
    "print(\"The data type in the array is \", arr3.dtype)\n",
    " \n",
    "# Seed\n",
    "np.random.seed(324)\n",
    "\n",
    "# Create an array using random\n",
    "arr4 = np.random.rand(20, 10)\n",
    "\n",
    "a = np.random.random((4, 4)) # 4 x 4 matrix with random values\n",
    "\n",
    "# Numpy array with values 0 to 10 with size 4 x 5 \n",
    "b = np.random.randint(0, 10, size=(4, 5))\n",
    "print(b, end=\"\\n\")\n",
    "\n",
    "# Sum the rows \n",
    "print(a, end=\"\\n\")\n",
    "\n",
    "# Iterate over rows to compute sum of each columns\n",
    "print(\"Sum of all columns: \", a.sum(axis=0), end=\"\\n\")\n",
    "print(\"Miniumum value of each columns\\n\", a.min(axis=0), end=\"\\n\")\n",
    "print(\"Minimum value of each rows\", a.min(axis=1), end=\"\\n\")\n",
    "\n",
    "# Iterate over columns to compute the sum of each row using axis = 1\n",
    "print(\"Sum of all rows is: \", a.sum(axis=1), end=\"\\n\")\n",
    "\n",
    "# Statistics operation\n",
    "print(\"Sum: \", arr4.sum(), end=\"\\n\")\n",
    "print(\"Mean: \", arr4.mean(), end=\"\\n\")\n",
    "print(\"Std: \", arr4.std(), end=\"\\n\")\n",
    "print(\"Minimum value\", a.min(), end=\"\\n\")\n",
    "print(\"Maximum value\", a.max(), end=\"\\n\")\n",
    "\n",
    "def return_index_of_max_values_of_each_columns(arr2d):\n",
    "    '''\n",
    "    Return the index value which contains max value in each column\n",
    "    See: http://docs.scipy.org/doc/numpy/reference/routines.sort.html\n",
    "\n",
    "    '''\n",
    "    return arr2d.argmax(axis=0)\n",
    "\n",
    "\n",
    "arr_data = np.random.randint(2,100, size=(500,3)) #500x 3 array \n",
    "\n",
    "print(\"The index that hold max value in each columns \", return_index_of_max_values_of_each_columns(arr_data))\n",
    "\n"
   ]
  },
  {
   "cell_type": "markdown",
   "metadata": {},
   "source": [
    "## Timing functions"
   ]
  },
  {
   "cell_type": "code",
   "execution_count": 111,
   "metadata": {},
   "outputs": [
    {
     "name": "stdout",
     "output_type": "stream",
     "text": [
      "Total time consumed  1.3109979629516602\n",
      "[[142.88  97.88 164.88 ... 185.88 164.88  83.88]\n",
      " [195.88  15.88  56.88 ...  22.88 150.88  96.88]\n",
      " [141.88  51.88  24.88 ... 185.88 144.88 187.88]\n",
      " ...\n",
      " [129.88  41.88  69.88 ...   2.88 124.88 186.88]\n",
      " [ 74.88  89.88 104.88 ... 133.88  84.88 184.88]\n",
      " [188.88 179.88  47.88 ...   7.88  64.88 159.88]]\n"
     ]
    }
   ],
   "source": [
    "import time\n",
    "t1 = time.time()\n",
    "arr = np.random.randint(2, 200, size=(9000, 9000)) # 9000 x 9000 matrix with 2, 200 random values\n",
    "arr = arr - (0.12)\n",
    "t2 = time.time()\n",
    "print(\"Total time consumed \", t2 - t1)\n",
    "print(arr)"
   ]
  },
  {
   "cell_type": "markdown",
   "metadata": {},
   "source": [
    "# Numpy indexing"
   ]
  },
  {
   "cell_type": "code",
   "execution_count": 136,
   "metadata": {},
   "outputs": [
    {
     "name": "stdout",
     "output_type": "stream",
     "text": [
      "Array with elements indices\n",
      "[[0.83416687 0.716978  ]\n",
      " [0.67602828 0.17067108]\n",
      " [0.67602828 0.17067108]\n",
      " [0.83416687 0.716978  ]]\n",
      "*************************************************************************************\n",
      "Array Elements less than mean with size 4 is [0.41566727 0.46883046 0.17067108 0.02461377]\n",
      "*************************************************************************************\n",
      "Array Elements less than mean with size 4 is [0.83416687 0.716978   0.67602828 0.78718692]\n",
      "*************************************************************************************\n",
      "Original array with size 8 is [[0.41566727 0.46883046]\n",
      " [0.83416687 0.716978  ]\n",
      " [0.67602828 0.17067108]\n",
      " [0.78718692 0.02461377]]\n"
     ]
    }
   ],
   "source": [
    "a = np.random.rand(4, 2)\n",
    "indices = np.array([1,2,2,1])\n",
    "\n",
    "# Access data based on indices\n",
    "k = a[indices]\n",
    "print(\"Array with elements indices\")\n",
    "print(k)\n",
    "print(\"*\" * 85)\n",
    "\n",
    "# Calculate the mean\n",
    "mean = a.mean()\n",
    "\n",
    "# masking \n",
    "arrltmean = a[a < mean]\n",
    "arrgtmean = a[a > mean]\n",
    "\n",
    "print(\"Array Elements less than mean with size {} is {}\".format(arrltmean.size, arrltmean))\n",
    "\n",
    "print(\"*\" * 85)\n",
    "print(\"Array Elements less than mean with size {} is {}\".format(arrgtmean.size, arrgtmean))\n",
    "\n",
    "\n",
    "\n",
    "\n",
    "print(\"*\" * 85)\n",
    "print(\"Original array with size {} is {}\".format(a.size, a))\n",
    "\n"
   ]
  },
  {
   "cell_type": "markdown",
   "metadata": {},
   "source": [
    "# NumPy Arithmetic operation"
   ]
  },
  {
   "cell_type": "code",
   "execution_count": 148,
   "metadata": {},
   "outputs": [
    {
     "name": "stdout",
     "output_type": "stream",
     "text": [
      "Scalar Multiplication of  array with size 8 is [[24 24]\n",
      " [24 24]\n",
      " [24 24]\n",
      " [24 24]]\n",
      "Addition of  array with size 8 is [[40 44]\n",
      " [38 44]\n",
      " [36 39]\n",
      " [42 40]]\n",
      "Subtraction of  array with size 8 is [[-16 -20]\n",
      " [-14 -20]\n",
      " [-12 -15]\n",
      " [-18 -16]]\n",
      "Division of  array with size 8 is [[0.42857143 0.375     ]\n",
      " [0.46153846 0.375     ]\n",
      " [0.5        0.44444444]\n",
      " [0.4        0.42857143]]\n",
      "48\n"
     ]
    }
   ],
   "source": [
    "a = np.random.randint(12, 13, size=(4,2))\n",
    "# Scalar multiplication arr * 2\n",
    "print(\"Scalar Multiplication of  array with size {} is {}\".format(a.size, a * 2))\n",
    "\n",
    "# Addition \n",
    "b = np.random.randint(22,33, size=(4, 2))\n",
    "print(\"Addition of  array with size {} is {}\".format(a.size, a + b))\n",
    "\n",
    "# Subtraction \n",
    "print(\"Subtraction of  array with size {} is {}\".format(a.size, a - b))\n",
    "\n",
    "# Division \n",
    "print(\"Division of  array with size {} is {}\".format(a.size, a / b))\n",
    "\n",
    "# matrix multiplication\n",
    "matrix_mul = np.dot(np.array([1,23]), np.array([2,2]))\n",
    "print(matrix_mul)\n",
    "\n",
    "\n"
   ]
  },
  {
   "cell_type": "markdown",
   "metadata": {},
   "source": [
    "## Some terms regarding statistics\n",
    "- Global statistics include `mean, median, mode, sum, std, variance`\n",
    "- Rolling statistics: `rolling_mean, rolling_std`, Rolling statistics between in windows such as 20 Days\n",
    "- Bollinger Band: A way of quantifying how far stock price has deviated from some norm."
   ]
  },
  {
   "cell_type": "code",
   "execution_count": 169,
   "metadata": {},
   "outputs": [
    {
     "ename": "AttributeError",
     "evalue": "module 'pandas' has no attribute 'to_sql'",
     "output_type": "error",
     "traceback": [
      "\u001b[1;31m---------------------------------------------------------------------------\u001b[0m",
      "\u001b[1;31mAttributeError\u001b[0m                            Traceback (most recent call last)",
      "\u001b[1;32m<ipython-input-169-5faab528d5a2>\u001b[0m in \u001b[0;36m<module>\u001b[1;34m\u001b[0m\n\u001b[0;32m      3\u001b[0m \u001b[0mcsv_path\u001b[0m \u001b[1;33m=\u001b[0m \u001b[0mPath\u001b[0m\u001b[1;33m(\u001b[0m\u001b[1;34m\"C:\\\\Users\\\\user\\\\Documents\\\\Downloads\\\\Today's Price _2023-02-01.csv\"\u001b[0m\u001b[1;33m)\u001b[0m\u001b[1;33m\u001b[0m\u001b[1;33m\u001b[0m\u001b[0m\n\u001b[0;32m      4\u001b[0m \u001b[0mdf\u001b[0m \u001b[1;33m=\u001b[0m \u001b[0mpd\u001b[0m\u001b[1;33m.\u001b[0m\u001b[0mread_csv\u001b[0m\u001b[1;33m(\u001b[0m\u001b[0mcsv_path\u001b[0m\u001b[1;33m)\u001b[0m\u001b[1;33m\u001b[0m\u001b[1;33m\u001b[0m\u001b[0m\n\u001b[1;32m----> 5\u001b[1;33m \u001b[0mpd\u001b[0m\u001b[1;33m.\u001b[0m\u001b[0mto_sql\u001b[0m\u001b[1;33m(\u001b[0m\u001b[0mdf\u001b[0m\u001b[1;33m)\u001b[0m\u001b[1;33m\u001b[0m\u001b[1;33m\u001b[0m\u001b[0m\n\u001b[0m\u001b[0;32m      6\u001b[0m \u001b[1;33m\u001b[0m\u001b[0m\n\u001b[0;32m      7\u001b[0m \u001b[1;33m\u001b[0m\u001b[0m\n",
      "\u001b[1;32mC:\\ProgramData\\Miniconda3\\lib\\site-packages\\pandas\\__init__.py\u001b[0m in \u001b[0;36m__getattr__\u001b[1;34m(name)\u001b[0m\n\u001b[0;32m    212\u001b[0m \u001b[1;33m\u001b[0m\u001b[0m\n\u001b[0;32m    213\u001b[0m             \u001b[1;32mreturn\u001b[0m \u001b[0mPanel\u001b[0m\u001b[1;33m\u001b[0m\u001b[1;33m\u001b[0m\u001b[0m\n\u001b[1;32m--> 214\u001b[1;33m         \u001b[1;32mraise\u001b[0m \u001b[0mAttributeError\u001b[0m\u001b[1;33m(\u001b[0m\u001b[1;34m\"module 'pandas' has no attribute '{}'\"\u001b[0m\u001b[1;33m.\u001b[0m\u001b[0mformat\u001b[0m\u001b[1;33m(\u001b[0m\u001b[0mname\u001b[0m\u001b[1;33m)\u001b[0m\u001b[1;33m)\u001b[0m\u001b[1;33m\u001b[0m\u001b[1;33m\u001b[0m\u001b[0m\n\u001b[0m\u001b[0;32m    215\u001b[0m \u001b[1;33m\u001b[0m\u001b[0m\n\u001b[0;32m    216\u001b[0m \u001b[1;33m\u001b[0m\u001b[0m\n",
      "\u001b[1;31mAttributeError\u001b[0m: module 'pandas' has no attribute 'to_sql'"
     ]
    }
   ],
   "source": [
    "from pathlib import Path\n",
    "import pandas as pd\n",
    "csv_path = Path(\"C:\\\\Users\\\\user\\\\Documents\\\\Downloads\\\\Today's Price _2023-02-01.csv\")\n",
    "df = pd.read_csv(csv_path)\n",
    "\n",
    "\n",
    "\n"
   ]
  },
  {
   "cell_type": "code",
   "execution_count": null,
   "metadata": {},
   "outputs": [],
   "source": []
  }
 ],
 "metadata": {
  "kernelspec": {
   "display_name": "Python 3",
   "language": "python",
   "name": "python3"
  },
  "language_info": {
   "codemirror_mode": {
    "name": "ipython",
    "version": 3
   },
   "file_extension": ".py",
   "mimetype": "text/x-python",
   "name": "python",
   "nbconvert_exporter": "python",
   "pygments_lexer": "ipython3",
   "version": "3.7.3"
  }
 },
 "nbformat": 4,
 "nbformat_minor": 2
}
